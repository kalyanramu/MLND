{
 "cells": [
  {
   "cell_type": "code",
   "execution_count": 88,
   "metadata": {
    "collapsed": true
   },
   "outputs": [],
   "source": [
    "import pandas as pd\n",
    "import numpy as np\n",
    "import re\n",
    "import matplotlib.pyplot as plt\n",
    "from IPython import get_ipython\n",
    "get_ipython().run_line_magic('matplotlib', 'inline')"
   ]
  },
  {
   "cell_type": "code",
   "execution_count": 90,
   "metadata": {
    "collapsed": true
   },
   "outputs": [],
   "source": [
    "def ExtractVals(lines):\n",
    "    vals=[]\n",
    "    for i,line in enumerate(lines):\n",
    "        number = re.findall(\"\\d+\\.\\d+\", line)\n",
    "        if number !=[]:\n",
    "            vals.append(number[0])\n",
    "    return vals      "
   ]
  },
  {
   "cell_type": "code",
   "execution_count": 110,
   "metadata": {
    "collapsed": false
   },
   "outputs": [],
   "source": [
    "def plot_state_exploration(fname,num_states=4):\n",
    "    with open(fname) as f:\n",
    "        content = f.readlines()\n",
    "    data = content[4:]\n",
    "    Qvals = ExtractVals(data)\n",
    "    Qvalues = np.reshape(Qvals, (num_states, len(Qvals)/num_states)).T \n",
    "\n",
    "    states_cnt =[]\n",
    "    for row in Qvalues:\n",
    "        cnt = 0\n",
    "        for val in row:\n",
    "            if float(val) !=0.00:\n",
    "                cnt +=1\n",
    "        states_cnt.append(cnt)  \n",
    "    plt.hist(states_cnt,len(states_cnt))\n",
    "    plt.xticks(range(num_states+1))\n",
    "    plt.show()"
   ]
  },
  {
   "cell_type": "code",
   "execution_count": 111,
   "metadata": {
    "collapsed": false
   },
   "outputs": [
    {
     "data": {
      "image/png": "[encoded data removed]",
      "text/plain": [
       "<matplotlib.figure.Figure at 0xb1ddfd0>"
      ]
     },
     "metadata": {},
     "output_type": "display_data"
    }
   ],
   "source": [
    "filename1 = 'C:/ML/smartcab/logs/sim_default-learning.txt'\n",
    "plot_state_exploration(filename1)"
   ]
  },
  {
   "cell_type": "code",
   "execution_count": 112,
   "metadata": {
    "collapsed": false
   },
   "outputs": [
    {
     "data": {
      "image/png": "[encoded data removed]",
      "text/plain": [
       "<matplotlib.figure.Figure at 0xc15c9b0>"
      ]
     },
     "metadata": {},
     "output_type": "display_data"
    }
   ],
   "source": [
    "filename2 = 'C:/ML/smartcab/logs/sim_improved-learning.txt'\n",
    "plot_state_exploration(filename2)\n"
   ]
  },
  {
   "cell_type": "code",
   "execution_count": null,
   "metadata": {
    "collapsed": true
   },
   "outputs": [],
   "source": []
  }
 ],
 "metadata": {
  "kernelspec": {
   "display_name": "Python 2",
   "language": "python",
   "name": "python2"
  },
  "language_info": {
   "codemirror_mode": {
    "name": "ipython",
    "version": 2
   },
   "file_extension": ".py",
   "mimetype": "text/x-python",
   "name": "python",
   "nbconvert_exporter": "python",
   "pygments_lexer": "ipython2",
   "version": "2.7.11"
  }
 },
 "nbformat": 4,
 "nbformat_minor": 0
}
